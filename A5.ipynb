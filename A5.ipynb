{
 "cells": [
  {
   "cell_type": "markdown",
   "metadata": {
    "deletable": false,
    "editable": false,
    "nbgrader": {
     "cell_type": "markdown",
     "checksum": "930bfeb2ed8c16ed071422708a177d38",
     "grade": false,
     "grade_id": "cell-402a21aef9f8f1fc",
     "locked": true,
     "schema_version": 3,
     "solution": false,
     "task": false
    }
   },
   "source": [
    "# Assignment 5\n",
    "\n",
    "## Higher Order Functions and Recursion\n",
    "\n",
    "### Maximum grade: 28/24\n",
    "\n",
    "The purpose of this assignment is to:\n",
    "- Be comfortable calling functions from within other functions\n",
    "- Get some more practice with recursion!"
   ]
  },
  {
   "cell_type": "code",
   "execution_count": 3,
   "metadata": {
    "deletable": false,
    "editable": false,
    "nbgrader": {
     "cell_type": "code",
     "checksum": "2159817dce30c3921823d1e69c4bf64c",
     "grade": false,
     "grade_id": "cell-c922f959a8cdb113",
     "locked": true,
     "schema_version": 3,
     "solution": false,
     "task": false
    }
   },
   "outputs": [],
   "source": [
    "def tester(a, b):\n",
    "    \"\"\"\n",
    "    I am the function that tells you if you pass or fail tests.\n",
    "    Run me, please.\n",
    "    \"\"\"\n",
    "    return \"You Passed!\" if a == b else \"You Failed!\""
   ]
  },
  {
   "cell_type": "markdown",
   "metadata": {
    "deletable": false,
    "editable": false,
    "nbgrader": {
     "cell_type": "markdown",
     "checksum": "ad1b2ce36690ddd7b010d1921b17ebae",
     "grade": false,
     "grade_id": "cell-b99818a211e3f195",
     "locked": true,
     "schema_version": 3,
     "solution": false,
     "task": false
    }
   },
   "source": [
    "# Question 1: Passing a Function as a Variable (3 points)\n",
    "\n",
    "Write four functions:\n",
    "\n",
    "1) bound(l) - given a list of integers `l`, compute a tuple containing the minimum and maximum values (in that order)\n",
    "\n",
    "2) span(l) - given a list of integers `l`, compute the difference between the minimum and maximum function.\n",
    "\n",
    "3) mean(l) - given a list of integers `l`, compute the average.  The return value will be a float.  \n",
    "\n",
    "4) stats(f, l) - given a function `f` and a list `l`, apply the function `f` to the list and return the result."
   ]
  },
  {
   "cell_type": "code",
   "execution_count": null,
   "metadata": {
    "deletable": false,
    "nbgrader": {
     "cell_type": "code",
     "checksum": "788072b3f5121f1b43a860a7c1aae859",
     "grade": false,
     "grade_id": "cell-456b16f6a5237baa",
     "locked": false,
     "schema_version": 3,
     "solution": true
    }
   },
   "outputs": [],
   "source": [
    "def bound(l):\n",
    "    return (min(l), max(l))\n",
    "    \n",
    "def span(l):\n",
    "    return abs(max(l) - min(l))\n",
    "    \n",
    "def mean(l):\n",
    "    return sum(l)/len(l)\n",
    "    \n",
    "def stats(f, l):\n",
    "    return f(l)"
   ]
  },
  {
   "cell_type": "code",
   "execution_count": null,
   "metadata": {
    "deletable": false,
    "editable": false,
    "nbgrader": {
     "cell_type": "code",
     "checksum": "8950d26f1e99053f0357c003b6762a84",
     "grade": false,
     "grade_id": "cell-5775a6115a2e6dc3",
     "locked": true,
     "schema_version": 3,
     "solution": false
    }
   },
   "outputs": [],
   "source": [
    "print(\"Question #1 - Test Case #1:\", tester(bound([i for i in range(1,7)]), (1, 6)))\n",
    "print(\"Question #1 - Test Case #2:\", tester(span([i for i in range(1,7)]), 5))\n",
    "print(\"Question #1 - Test Case #3:\", tester(mean([i for i in range(1,7)]), 3.5))"
   ]
  },
  {
   "cell_type": "code",
   "execution_count": null,
   "metadata": {
    "deletable": false,
    "editable": false,
    "nbgrader": {
     "cell_type": "code",
     "checksum": "63d329b7f2391df5c5ae29fc42650022",
     "grade": true,
     "grade_id": "cell-7d008982205c454a",
     "locked": true,
     "points": 0,
     "schema_version": 3,
     "solution": false,
     "task": false
    }
   },
   "outputs": [],
   "source": [
    "# Hidden test cell"
   ]
  },
  {
   "cell_type": "code",
   "execution_count": null,
   "metadata": {
    "deletable": false,
    "editable": false,
    "nbgrader": {
     "cell_type": "code",
     "checksum": "3d8d440363a36847185d96ffdf05cadf",
     "grade": true,
     "grade_id": "cell-25d6254df22343c7",
     "locked": true,
     "points": 1,
     "schema_version": 3,
     "solution": false
    }
   },
   "outputs": [],
   "source": [
    "# Hidden test cell"
   ]
  },
  {
   "cell_type": "code",
   "execution_count": null,
   "metadata": {
    "deletable": false,
    "editable": false,
    "nbgrader": {
     "cell_type": "code",
     "checksum": "45a9544b405a6b2a410fe22a6fad7267",
     "grade": true,
     "grade_id": "cell-f530eb0e5b244974",
     "locked": true,
     "points": 1,
     "schema_version": 3,
     "solution": false
    }
   },
   "outputs": [],
   "source": [
    "# Hidden test cell"
   ]
  },
  {
   "cell_type": "code",
   "execution_count": null,
   "metadata": {
    "deletable": false,
    "editable": false,
    "nbgrader": {
     "cell_type": "code",
     "checksum": "437c48429d5180deb6aea0e8f6820373",
     "grade": true,
     "grade_id": "cell-9bbddc2ea62546f2",
     "locked": true,
     "points": 1,
     "schema_version": 3,
     "solution": false
    }
   },
   "outputs": [],
   "source": [
    "# Hidden test cell"
   ]
  },
  {
   "cell_type": "markdown",
   "metadata": {
    "deletable": false,
    "editable": false,
    "nbgrader": {
     "cell_type": "markdown",
     "checksum": "a93bf99ca3987b2bdd382d4ab166907b",
     "grade": false,
     "grade_id": "cell-f8f3140c12e0c312",
     "locked": true,
     "schema_version": 3,
     "solution": false,
     "task": false
    }
   },
   "source": [
    "# Question 2: Fibonacci Sum (5 points)\n",
    "\n",
    "The $n^{th}$ term of the Fibonacci sequence is generated by adding the previous two terms. The first few terms are:\n",
    "$$ 1, 1, 2, 3, 5, 8, 13, 21, 34, 55 ... $$\n",
    "\n",
    "Write a function fibsum(N) that returns the sum of all *even valued* fibonacci terms that are less than N.\n",
    "\n",
    "For instance, for N = 40, we would return 44 (2 + 8 + 34)\n",
    "\n",
    "**HINT:** You may want to consult slide set 5.\n",
    "\n",
    "**HINT 2:** We are not requiring you to use a recursive implementation, though this may be easier given the sldie material. If you run into efficiency issues below, you could either switch to an iterative approach, or implement memoization (see Topic 5 slides). "
   ]
  },
  {
   "cell_type": "code",
   "execution_count": 7,
   "metadata": {
    "deletable": false,
    "nbgrader": {
     "cell_type": "code",
     "checksum": "22e5566448c30a429b7162d3c275b646",
     "grade": false,
     "grade_id": "cell-bc772084dd8eaf72",
     "locked": false,
     "schema_version": 3,
     "solution": true
    }
   },
   "outputs": [],
   "source": [
    "cache = {0: 0, 1: 1}\n",
    "\n",
    "def fibsum(N):\n",
    "    total = 0\n",
    "    \n",
    "    if N <= 0:\n",
    "        return 0\n",
    "    if N == 1:\n",
    "        return 1\n",
    "    \n",
    "    for i in range(2,N):\n",
    "        cache[i] = cache[i - 1] + cache[i - 2]\n",
    "        if cache[i] > N:\n",
    "            return total\n",
    "        elif (cache[i] % 2 == 0):\n",
    "            total += cache[i]\n",
    "        \n",
    "    return total"
   ]
  },
  {
   "cell_type": "code",
   "execution_count": 8,
   "metadata": {
    "deletable": false,
    "editable": false,
    "nbgrader": {
     "cell_type": "code",
     "checksum": "fa0a53bc4e0b09fab7fd6904b1bf869b",
     "grade": false,
     "grade_id": "cell-acc55d3a5b7377d1",
     "locked": true,
     "schema_version": 3,
     "solution": false,
     "task": false
    }
   },
   "outputs": [
    {
     "name": "stdout",
     "output_type": "stream",
     "text": [
      "Question #2 - Test Case #1: You Passed!\n",
      "Question #2 - Test Case #2: You Passed!\n",
      "Question #2 - Test Case #3: You Passed!\n"
     ]
    }
   ],
   "source": [
    "print(\"Question #2 - Test Case #1:\", tester(fibsum(-1), 0))\n",
    "print(\"Question #2 - Test Case #2:\", tester(fibsum(40), 44))\n",
    "print(\"Question #2 - Test Case #3:\", tester(fibsum(4*10**6), 4613732))"
   ]
  },
  {
   "cell_type": "markdown",
   "metadata": {
    "deletable": false,
    "editable": false,
    "nbgrader": {
     "cell_type": "markdown",
     "checksum": "3f26fa2b1dff62d6c1aea4e0875ab657",
     "grade": false,
     "grade_id": "cell-c730c436be730041",
     "locked": true,
     "schema_version": 3,
     "solution": false,
     "task": false
    }
   },
   "source": [
    "If these cases run too slowly, you may need to modify your algorithm:"
   ]
  },
  {
   "cell_type": "code",
   "execution_count": null,
   "metadata": {
    "deletable": false,
    "editable": false,
    "nbgrader": {
     "cell_type": "code",
     "checksum": "5fa8e3e74d09d8f904a7a65dcd2a9cf8",
     "grade": false,
     "grade_id": "cell-59cb44b86cb0921e",
     "locked": true,
     "schema_version": 3,
     "solution": false,
     "task": false
    }
   },
   "outputs": [],
   "source": [
    "print(\"Question #2 - Test Case #4:\", tester(fibsum(10**1000), 5933608372629145798383544242983334636899291050047879463824293309987965343882047512984107588698285346632851981219062849855970529781272597133037980905941846567381108185609155598002212061744588022560666944282767462121189302686560263335164922661315868839451963485338930580620175723568033024082499799721271328257452544308488139652872804895873257816488895097469482618389027664983663019272178104872928427579529466738208129384632199186931292053505993390945828326147177151692121336204311895165981982728598087114287157410488507274530820653725550887083368470109297084168625855256569091543118913762196588623005900476707497335157598848209727884494346486850096686339118011583322943230155678188177779582642187147830838023871251508179354174068722627132322379667374013645021983195445921872203922884810130060459330632124749284199708376404669104869936023808844711242768526994447908900991933324168339513635421902151293084025917812258411608177117040739665776652404631304245925539202140227103643288849790111066129620913716))"
   ]
  },
  {
   "cell_type": "code",
   "execution_count": null,
   "metadata": {
    "deletable": false,
    "editable": false,
    "nbgrader": {
     "cell_type": "code",
     "checksum": "393f8f76ecc24cc5a291113698bb01ee",
     "grade": false,
     "grade_id": "cell-50f1c20e0689dbbf",
     "locked": true,
     "schema_version": 3,
     "solution": false,
     "task": false
    }
   },
   "outputs": [],
   "source": [
    "print(\"Question #2 - Test Case #5:\", tester(fibsum(10**10000), 6699559432585660545573702667084889471167548773597601986481641090446197952712804461154129282458711835317064458448149169234470011778174418365079734961165609520696228859092291252739958860174970425289913896373982524025730492299535004427028788703779885176083917699562860918497323462333709760892065259929895842180757940776104907131526748923152364416432274806937079977677152203430758371528777273426810261967496544308254986764531933263242154357764546191415817871614846861410010482568300686033478450295813207065383930067909263776045829506906129092493811782915469448125217934476410108381371560131575694900421937937560793969157346662004140263746686287943354704134224487565966502139965935879931203379811054522254417930205809519962200030648267537578828887461807677288341217928560065635529809314994693648096547150895428401563383973912241282496393193068676578945003920255142257645513082935697624070043084104895184744821027473980767787959157719864153354417489834278474794668828180652816569839652583760076563703007078472828572998387858294441265495505964168666491283334693208848992018518221671107638109228908869463915017151926499700223213224746894993224139274484035253769394889358025482734683133711789172092180687346523953211299462230355746380413684081815958336520812595742744354364850026413643515012649060802696371835896948898750049841914010544083083072143246423681512607160467315894898295393233731816803814595968050847575109047815122974769489219193144703390472916521006261010907793055236376575453887459395639693961814495598526618907113476832123887477894382557666012992282179871291158403339047578096518489586872398298361528187953935855765682840184864556339364751264452546895815678757400830400758456954336571114383511030430430794865619730836206946139364700889555625225865142184498975714617870760212990468576194430907636620364096398439597120565745988643079868609503725477137311957820103190906982178448087223104484982565092982648391709646601601791307302935277793631741248483769465307112681190288665573979756550097795102428679915979257134233678903459868627459525914768637313194856921878336607599740938923062677480658374923951805349002395236508974135704462472175524478742617796572732355812854424929969280235441641960343543904339192590624422843681310080332342226809819878986830041672298016768052225250348318407356186347677108763668998431288567688009001266741322006532365900296067682260130081568414862371875664103738999873281260627320325706242390648611413318784206249461336653396937042196775055292480866866591115960083117497193040690873559862170589785978696196473142297391842596152633213093903605610548182448333197167038522718591353628681348214454673350189865898820618864508773913996348110939986838538689839328877757567821931467012412537971231528991193848334008880351430281432818790343536478181741983038785690626138319924647108106458281154569062500163473398347614975054135060149377334043994118223722246442606760221866570623359717528463564705561853439714275146144969584625020943157778215630375060089096749295342049338381533002976126537378944413398672066375834861835762057157099264536572103783479904442950533478701826005029803841154401620961421125276962933914155673435205853673583907003757383309908493424419862295711566563838234823842722319407517053871452845280379708913288894561078584464866883826792085163661586053569401851953413998228213415637049526138524879393807446983305109251852283153180624526155345296659236656891901436548117351102579599725494281283929955912695711428127526284225588804721014729687551779347443862764532533993953623881441901017990643430104597139212120594922897417433193240487708336432182905721763243738145564282991309968962865200024633437178880407621147430625263884239829630337420160193585599777115337471245897099909830144309084446072429210890853956706178522130717899875105591623993227084619686915726303968454846810812670910641357364770546110433601685683480388214666739440248788851836508633069618674226930206401723886483111308210778027706588902645269705537972874848745123910782216388048765150308545688383154995779589249039185247688856002405772637327226486864340724301285425082979895014736052585112783013367875696638479347600539876372518656375494020110587734437524353447554756859696091918896851713170613875456943054995037309977790716348039998043245276462508730894047629490960661782258669711094301970252719679006479334288175177335983574224270993527811768548708772075619493381336092917675136608843900626483139215931735267203655218998357629060030641274537569917230053462033808886826767201687603126084361046489811881582827084919364465480232232251683703107659656867178098892775950447929021918720085882031855068007971910243865242902075209059611623530537225059270750341361623796724713806301467817785132728262662226056779766297865157818714225935738308207501987797603936690939113622796672842950184465387965779696290078976543433942326993874949136719649202440419351467027761851293468408746906932696468309139998639700294794262924439259358189546727906532919134254184960821986317229123959039021651533906261047559196081439365275043809947866893155396778240828938452827009514373770424210738029103780204607226941485380550269553596192027571314080503946672308472895299520943618752539005389025994285345911539975346687685448147689081106537019413221517850836230579544698672360066018132535326689998380550955508916517047750821423678263550998622012246648229375038463105509123128568168022590262248224699681122169817372759524255332271133838606814912160708460548021679967069663290500079680201115907611367397041632063803422122357419262793954275973504580189973928458303181286157282465514438359378712572836027224886460302217813023722344650044057284373037487331974538440444839257007002572942746386190328757889959553302808368593859572496818989771627875831404115942324089299007043590537188304600876430370101246177693864646875293368408075546149587532590146046307940143145170259501879633378727832654396913119090794024193127426722294291899129526635509666401346566324117080504880813531517362126302071547638039707703575512984865879662751568944248849455529859549053781890637080407414480694198012687675408000347019626333805884623594725397397730882037835972361331193369935623856328468216868876766402607413883325782227211118944183083842508312107435194526558237381144780669263870481952249017823111001456682825902993323148491237405846285081096000215143429420743467037656605041955197606401039182731045209160246658828013084890749968152168734329395729088059370351397750525386261464976079891150939692145791760536143844126578900694666962116098870431082102338004405548940986651207500829795972633670482911751493498610179051655782606778613149638713160687859706688923815267934301227748234419085021114600060456895840445895000903707181252856038191097334181412632990017097904730407991059711867580546831124923550333421062940026709886457698947676526515488731123056695099561280429415974907155120930582165077408142538804997392401729340198252443143751840351938500180471396451078043318022813718525130286568397205838434355142809971390203949849831760121543823393349516738784264409497647428783194900046540042072745169037634588637390336441928707267203446713157293984992173732499395884667904178466265342071149119668064699079051401991574802966746313619750996181631638521807567859191537471504450106077904830388223985737292157929614076428959503687851318743103880221469954865863049241452229342365778087324280964775732538556178064700197508263897772866435128369213708932124034085956096768915569504350568736449657751587771610087990855977086120805491270392230637649830079774164498823424403912605875319864787901423755935536894581951433343329145041012051200981283605184142303066515938264632122976606787542649050410299400711993187424144272506244337780042757958484122407927715877279658014111507101395198300204643641886162712088419887930140636880896994303365252882689666771476322707680220380822274866778443158008895697428385492108651753047195976409203756775278673160974987756945520799910746384899971127077677486318968559764302613524072622982596192406661564082048548274661925417569071175247185852144690359753675001778242513570812875852740129530748136198317684653252138703345674732501666256251003788670603938442541650629585053027738553956505574966258724539333669832347350522952097747335697294695655865521656181187694387205959207181537234540197370813746054560033123001849805594961388024724565960983729629002358765565333611303244381693649142415269848935868243717355346336460409513530433094860336611705776830939333438532297716119202154301990437527773135049678495979764589356011715483187962185328174222959256195971428170815356408466016826581970396276428724172892576788184654653979819444788229970870741912298827873406076383194738696590669188154115423719759725203777926023297448041758772516848642379681098529769752380741468104663578064864799971534692534443227685295164302719841786337051963656768742393378748012422637743430288027634630288072943822608605929100738364315388908364884835836327577964617179359436199853428852741942587346967906779362664809098615023056549149794913463129040849583238476429861381692803234207508556025615112734905492522439297607498306713034372157913178165979795242898485438164077736573803987665453800099056067140828404012478713596309055717476071052120275136594046843455687207699703111604117749910097409163448796955504824896863000639873956766352420970842700580538202873290424515056567139531897749411262738122903567614462001583826111124877203237313838208019106439757803145527852815064631536931485283281359975039172147234848145136936155183824227415239485723468598969988055850503488605463345369990708368814762044947036329786113964138824466328406620819683485006156058462937935225514534159537697116657426746747000390032900809734420481630696958310951513291542821900228710825434801996384090603164466117688682144730535006939498525816301981771991943271084985657478229818815217763847027854263296727301956426372767666815542776283790115944073599765938303798284803712754269377654272283866744578623692932087544881833217085767633512288979009729489670770865254341868242923648006640258380974))"
   ]
  },
  {
   "cell_type": "code",
   "execution_count": null,
   "metadata": {
    "deletable": false,
    "editable": false,
    "nbgrader": {
     "cell_type": "code",
     "checksum": "843561fcbacce4601c4a3106ee861562",
     "grade": true,
     "grade_id": "cell-3b30499e72fbe01b",
     "locked": true,
     "points": 1,
     "schema_version": 3,
     "solution": false
    }
   },
   "outputs": [],
   "source": [
    "# Hidden test cell"
   ]
  },
  {
   "cell_type": "code",
   "execution_count": null,
   "metadata": {
    "deletable": false,
    "editable": false,
    "nbgrader": {
     "cell_type": "code",
     "checksum": "3fc89d26ff332807dbb06944c73f6897",
     "grade": true,
     "grade_id": "cell-db1809540893aa53",
     "locked": true,
     "points": 1,
     "schema_version": 3,
     "solution": false
    }
   },
   "outputs": [],
   "source": [
    "# Hidden test cell"
   ]
  },
  {
   "cell_type": "code",
   "execution_count": null,
   "metadata": {
    "deletable": false,
    "editable": false,
    "nbgrader": {
     "cell_type": "code",
     "checksum": "c0e8643c83a510ce67cd508f6c8639e9",
     "grade": true,
     "grade_id": "cell-ef338cc40aa0c02f",
     "locked": true,
     "points": 1,
     "schema_version": 3,
     "solution": false
    }
   },
   "outputs": [],
   "source": [
    "# Hidden test cell"
   ]
  },
  {
   "cell_type": "code",
   "execution_count": null,
   "metadata": {
    "deletable": false,
    "editable": false,
    "nbgrader": {
     "cell_type": "code",
     "checksum": "b4702bdc884c8bfe424dd61b13915924",
     "grade": true,
     "grade_id": "cell-e3cd81e5a6885828",
     "locked": true,
     "points": 1,
     "schema_version": 3,
     "solution": false
    }
   },
   "outputs": [],
   "source": [
    "# Hidden test cell"
   ]
  },
  {
   "cell_type": "code",
   "execution_count": null,
   "metadata": {
    "deletable": false,
    "editable": false,
    "nbgrader": {
     "cell_type": "code",
     "checksum": "3f770ad68811243ac947024a9f52fa11",
     "grade": true,
     "grade_id": "cell-c9594a91e76e38d7",
     "locked": true,
     "points": 1,
     "schema_version": 3,
     "solution": false
    }
   },
   "outputs": [],
   "source": [
    "# Hidden test cell"
   ]
  },
  {
   "cell_type": "markdown",
   "metadata": {
    "deletable": false,
    "editable": false,
    "nbgrader": {
     "cell_type": "markdown",
     "checksum": "2accedebbc20dd75724345098ebc8ee6",
     "grade": false,
     "grade_id": "cell-f8e48c111c199e5a",
     "locked": true,
     "schema_version": 3,
     "solution": false,
     "task": false
    }
   },
   "source": [
    "# Question 3: Newton's Method (4 points)\n",
    "\n",
    "Newton's method (also known as the Newton-Raphson method) is an iterative way to find the roots of a function--that is, the values of $x$ such that $f(x) = 0$. The idea is this: given a function, $f(x)$, take an initial guess of the roots, $x_0$. You can then find your next guess as: $$x_1 = x_0 - \\frac{f(x_0)}{f'(x_0)}$$\n",
    "\n",
    "Where $f'(x)$ is the derivative $f(x)$. $f(x_1)$ will be closer to $0$ than $f(x_0)$. \n",
    "\n",
    "Your original guess does not have to be close to an actual root, it will converge regardless. However, due to division and logarithm, 0 is dangerous to pick. Please use 1 as your guess.\n",
    "\n",
    "For a more detailed description of the algorithm, see: https://en.wikipedia.org/wiki/Newton%27s_method\n",
    "\n",
    "Write a function, `newton(f, fprime, eps)` that takes a function, its derivative, and a tolerance as output, and returns a value of $x$ that evaluates to approximately $0$ within `eps` (that is, `|f(x)| < eps`).\n",
    "\n",
    "Note: remember that you can approach 0 from either side. `f(x) = -30` is most certainly less than `eps = 0.001`, but much further from 0 than we'd like.\n",
    "\n",
    "At the end of the day, please don't do more then 1000 loops. You gain nothing after that point and we gotta stop somewhere."
   ]
  },
  {
   "cell_type": "code",
   "execution_count": 25,
   "metadata": {
    "deletable": false,
    "nbgrader": {
     "cell_type": "code",
     "checksum": "06ec75d5440d619352caf6e2381da8f6",
     "grade": false,
     "grade_id": "cell-6e59a5187b224404",
     "locked": false,
     "schema_version": 3,
     "solution": true
    }
   },
   "outputs": [],
   "source": [
    "def newton(f, fprime, eps):\n",
    "    xn = 1\n",
    "    counter = 1000\n",
    "    #it looks prettier with 2 variables, but could be done with just one\n",
    "    while ( (abs(f(xn)) >= eps) or (counter == 0) ):\n",
    "        xn -= f(xn)/fprime(xn)\n",
    "        counter -= 1\n",
    "    \n",
    "    return xn\n",
    "\n"
   ]
  },
  {
   "cell_type": "code",
   "execution_count": 26,
   "metadata": {
    "deletable": false,
    "editable": false,
    "nbgrader": {
     "cell_type": "code",
     "checksum": "8d101d3da8ac029d7453de9787062115",
     "grade": false,
     "grade_id": "cell-049fa2acfe85fb06",
     "locked": true,
     "schema_version": 3,
     "solution": false,
     "task": false
    }
   },
   "outputs": [
    {
     "name": "stdout",
     "output_type": "stream",
     "text": [
      "Question #3 - Test Case #1: You Passed!\n"
     ]
    }
   ],
   "source": [
    "# Defining our functions\n",
    "f1 = lambda x: x**2 + 3*x + 2\n",
    "f1prime = lambda x: 2*x + 3\n",
    "\n",
    "# The test case\n",
    "print(\"Question #3 - Test Case #1:\", tester(abs(f1(newton(f1, f1prime, 0.0001))) < 0.0001, True))"
   ]
  },
  {
   "cell_type": "markdown",
   "metadata": {
    "deletable": false,
    "editable": false,
    "nbgrader": {
     "cell_type": "markdown",
     "checksum": "ef86040ba3c2d7c8d7c31ac939760eab",
     "grade": false,
     "grade_id": "cell-b75f6ed7cdec212e",
     "locked": true,
     "schema_version": 3,
     "solution": false,
     "task": false
    }
   },
   "source": [
    "Note: The above are lambda functions, and behave just like regular functions when you call them. That is, calling `f1(7)` will return: $$7^2 + 3(7) + 2 = 72$$"
   ]
  },
  {
   "cell_type": "code",
   "execution_count": 27,
   "metadata": {
    "deletable": false,
    "editable": false,
    "nbgrader": {
     "cell_type": "code",
     "checksum": "c547c52b74c6b9d45687052eef35fec7",
     "grade": false,
     "grade_id": "cell-82b2dd0d8c3baa20",
     "locked": true,
     "schema_version": 3,
     "solution": false
    }
   },
   "outputs": [
    {
     "name": "stdout",
     "output_type": "stream",
     "text": [
      "Question #3 - Test Case #2: You Passed!\n",
      "Question #3 - Test Case #3: You Passed!\n",
      "Question #3 - Test Case #4: You Passed!\n"
     ]
    }
   ],
   "source": [
    "print(\"Question #3 - Test Case #2:\", tester(f1(7), 72))\n",
    "# Defining functions for third test case\n",
    "from math import log\n",
    "g = lambda x: log(x)\n",
    "gp = lambda x: 1 / x\n",
    "print(\"Question #3 - Test Case #3:\", tester(g(newton(g, gp, 0.0001)) <= 1, True))\n",
    "# Functions for fourth test case. \n",
    "# Note there isn't actually a 0 for this function, you just need to get \"close enough\"\n",
    "from math import e\n",
    "def h(x):\n",
    "    return e**x\n",
    "\n",
    "def hprime(x):\n",
    "    return e**x\n",
    "print(\"Question #3 - Test Case #4:\", tester(h(newton(h, hprime, 0.000001)) < 0.000001, True))"
   ]
  },
  {
   "cell_type": "code",
   "execution_count": 28,
   "metadata": {
    "deletable": false,
    "editable": false,
    "nbgrader": {
     "cell_type": "code",
     "checksum": "9f35858653ff9057e8ce767571fa7840",
     "grade": false,
     "grade_id": "cell-3997a935b2fe537d",
     "locked": true,
     "schema_version": 3,
     "solution": false,
     "task": false
    }
   },
   "outputs": [
    {
     "name": "stdout",
     "output_type": "stream",
     "text": [
      "This polynomial is:\n",
      "9.11*x**5 + 0.71*x**4 + 2.40*x**3 + 7.71*x**2 + 8.68*x**1 + 7.91\n",
      "Its derivative is:\n",
      "45.55*x**4 + 2.83*x**3 + 7.20*x**2 + 15.42*x**1 + 8.68\n"
     ]
    }
   ],
   "source": [
    "# Generates a random polynomial every time you run this cell\n",
    "from random import randrange, uniform\n",
    "#from random import randrange, uniform\n",
    "\n",
    "DEGREE = randrange(5, 10)\n",
    "COEF = [uniform(0.01,10) for i in range(DEGREE)]\n",
    "\n",
    "r = lambda x: sum([COEF[i] * x ** (DEGREE-i-1) for i in range(DEGREE)])\n",
    "rprime = lambda x: sum([COEF[i] * (DEGREE-i-1) * x ** (DEGREE-i-2) for i in range(DEGREE-1)])\n",
    "\n",
    "poly = ' + '.join([\"%.2f*x**%s\" % (COEF[i], DEGREE-i-1) for i in range(DEGREE-1)]) + (\" + %.2f\" % COEF[-1])\n",
    "diff = ' + '.join([\"%.2f*x**%s\" % (COEF[i]*(DEGREE-i-1), DEGREE-i-2) for i in range(DEGREE-2)]) + (\" + %.2f\" % COEF[-2])\n",
    "\n",
    "print(\"This polynomial is:\")\n",
    "print(poly)\n",
    "print(\"Its derivative is:\")\n",
    "print(diff)\n"
   ]
  },
  {
   "cell_type": "markdown",
   "metadata": {
    "deletable": false,
    "editable": false,
    "nbgrader": {
     "cell_type": "markdown",
     "checksum": "5475b39225774177f05679e980d26ec9",
     "grade": false,
     "grade_id": "cell-ea71f3a97ba528d2",
     "locked": true,
     "schema_version": 3,
     "solution": false,
     "task": false
    }
   },
   "source": [
    "Note that because the polynomial for this test case is random, it is possible that it has no zeroes. This is why we asked you to put a maximum of 1000 on your solution! \n",
    "\n",
    "(Our private tests don't do this, but still do it please)"
   ]
  },
  {
   "cell_type": "code",
   "execution_count": null,
   "metadata": {
    "deletable": false,
    "editable": false,
    "nbgrader": {
     "cell_type": "code",
     "checksum": "871ce7a0f268f927bcc03d01fd196516",
     "grade": false,
     "grade_id": "cell-f05b8c52498a79bf",
     "locked": true,
     "schema_version": 3,
     "solution": false,
     "task": false
    }
   },
   "outputs": [],
   "source": [
    "print(\"Question #3 - Test Case #5:\", tester(r(newton(r, rprime, 10**-9)) < 10**-9, True))"
   ]
  },
  {
   "cell_type": "code",
   "execution_count": null,
   "metadata": {
    "deletable": false,
    "editable": false,
    "nbgrader": {
     "cell_type": "code",
     "checksum": "bbd41d2a125e839fa3285cb3f2298c50",
     "grade": true,
     "grade_id": "cell-ab5bfc6fa8d874ac",
     "locked": true,
     "points": 1,
     "schema_version": 3,
     "solution": false
    }
   },
   "outputs": [],
   "source": [
    "# Hidden test cell"
   ]
  },
  {
   "cell_type": "code",
   "execution_count": null,
   "metadata": {
    "deletable": false,
    "editable": false,
    "nbgrader": {
     "cell_type": "code",
     "checksum": "4fc7f919d4041cf30aad012d12cf84d0",
     "grade": true,
     "grade_id": "cell-1107faa1c8f9fd82",
     "locked": true,
     "points": 1,
     "schema_version": 3,
     "solution": false
    }
   },
   "outputs": [],
   "source": [
    "# Hidden test cell"
   ]
  },
  {
   "cell_type": "code",
   "execution_count": null,
   "metadata": {
    "deletable": false,
    "editable": false,
    "nbgrader": {
     "cell_type": "code",
     "checksum": "e67b85a210c9793035955963b2bd1499",
     "grade": true,
     "grade_id": "cell-26e40b8d4be45e36",
     "locked": true,
     "points": 2,
     "schema_version": 3,
     "solution": false
    }
   },
   "outputs": [],
   "source": [
    "# Hidden test cell"
   ]
  },
  {
   "cell_type": "markdown",
   "metadata": {
    "deletable": false,
    "editable": false,
    "nbgrader": {
     "cell_type": "markdown",
     "checksum": "e5db5b50dd553f81ad93854f1472207c",
     "grade": false,
     "grade_id": "cell-a798d9f1383f7c5b",
     "locked": true,
     "schema_version": 3,
     "solution": false,
     "task": false
    }
   },
   "source": [
    "# Question 4: Intersection of Two Functions (4 points)\n",
    "\n",
    "Write a function, `intersect(f, g, a, b, eps)` that takes in two functions, `f` and `g`, and finds the point of intersection between `a` and `b` with a tolerance of `eps`. In other words, find the point `c` such that:\n",
    "$$ |f(c) - g(c)| < eps$$\n",
    "and\n",
    "$$ a \\leq c \\leq b $$\n",
    "\n",
    "Use a modified version of <a href=https://en.wikipedia.org/wiki/Bisection_method#Algorithm>the bisection method</a> to find `c`. You will have to modify the algorithm such that rather than finding when `f(c) = 0`, you find when `f(c) - g(c) = 0`."
   ]
  },
  {
   "cell_type": "code",
   "execution_count": 37,
   "metadata": {
    "deletable": false,
    "nbgrader": {
     "cell_type": "code",
     "checksum": "09b5e306613349e51e21a9d84a8f63f2",
     "grade": false,
     "grade_id": "cell-9209a400fa396373",
     "locked": false,
     "schema_version": 3,
     "solution": true
    }
   },
   "outputs": [],
   "source": [
    "def intersect(f, g, a, b, eps):\n",
    "\n",
    "    for i in range(1500): \n",
    "        a_value = f(a) - g(a)\n",
    "        midpoint = (a + b) / 2\n",
    "        mid_value = f(midpoint) - g(midpoint)\n",
    "\n",
    "        if abs(mid_value) < eps:\n",
    "            return midpoint\n",
    "\n",
    "        if a_value * mid_value >= 0:\n",
    "            a = midpoint\n",
    "        else:\n",
    "            b = midpoint\n",
    "\n",
    "    \n"
   ]
  },
  {
   "cell_type": "code",
   "execution_count": 38,
   "metadata": {
    "deletable": false,
    "editable": false,
    "nbgrader": {
     "cell_type": "code",
     "checksum": "a056fac682bf15ed524ccf53686fef9f",
     "grade": false,
     "grade_id": "cell-c22788a79a381938",
     "locked": true,
     "schema_version": 3,
     "solution": false,
     "task": false
    }
   },
   "outputs": [
    {
     "name": "stdout",
     "output_type": "stream",
     "text": [
      "Question #4 - Test Case #1: You Passed!\n",
      "Question #4 - Test Case #2: You Passed!\n",
      "Question #4 - Test Case #3: You Passed!\n"
     ]
    }
   ],
   "source": [
    "f1 = lambda x: 2*x + 3\n",
    "g1 = lambda x: 3*x - 4\n",
    "x1 = intersect(f1, g1, -10, 10, 0.001)\n",
    "print(\"Question #4 - Test Case #1:\", tester(abs(f1(x1) - g1(x1)) < 0.001, True))\n",
    "f2 = lambda x: x**2 + 3*x + 9\n",
    "g2 = lambda x: -2*x**2 + 10*x + 8\n",
    "x1 = intersect(f2, g2, 0, 1, 10**-9)\n",
    "x2 = intersect(f2, g2, 1, 3, 10**-9)\n",
    "print(\"Question #4 - Test Case #2:\", tester(round(x1, 7), 0.1528729))\n",
    "print(\"Question #4 - Test Case #3:\", tester(round(x2, 7), 2.1804604))"
   ]
  },
  {
   "cell_type": "code",
   "execution_count": null,
   "metadata": {
    "deletable": false,
    "editable": false,
    "nbgrader": {
     "cell_type": "code",
     "checksum": "b053552c206c8ffa4ba35d9075746da6",
     "grade": true,
     "grade_id": "cell-b97f26dd1961c7c2",
     "locked": true,
     "points": 1,
     "schema_version": 3,
     "solution": false
    }
   },
   "outputs": [],
   "source": [
    "# Hidden test cell"
   ]
  },
  {
   "cell_type": "code",
   "execution_count": null,
   "metadata": {
    "deletable": false,
    "editable": false,
    "nbgrader": {
     "cell_type": "code",
     "checksum": "0d802eb2144d40ff6a3307c1d7319db6",
     "grade": true,
     "grade_id": "cell-d9c21b0e6bc54327",
     "locked": true,
     "points": 2,
     "schema_version": 3,
     "solution": false
    }
   },
   "outputs": [],
   "source": [
    "# Hidden test cell"
   ]
  },
  {
   "cell_type": "code",
   "execution_count": null,
   "metadata": {
    "deletable": false,
    "editable": false,
    "nbgrader": {
     "cell_type": "code",
     "checksum": "6b454a6bddab612ac35504b594425f47",
     "grade": true,
     "grade_id": "cell-7b395fcf8e40ede3",
     "locked": true,
     "points": 1,
     "schema_version": 3,
     "solution": false
    }
   },
   "outputs": [],
   "source": [
    "# Hidden test cell"
   ]
  },
  {
   "cell_type": "markdown",
   "metadata": {
    "deletable": false,
    "editable": false,
    "nbgrader": {
     "cell_type": "markdown",
     "checksum": "c2d84721cbfede317119b352a5cff809",
     "grade": false,
     "grade_id": "cell-bddcb98d516e3a97",
     "locked": true,
     "schema_version": 3,
     "solution": false,
     "task": false
    }
   },
   "source": [
    "# Question 5: Recursive Lightning in a Soda Pop Bottle (4 points)\n",
    "\n",
    "In Doesntexistland, soda pop stores refund soda pop bottles as an environmental initiative.  However, the store will only exchange a certain number of bottles at a time.  \n",
    "\n",
    "If a person has a certain amount of money to start with, how many bottles of soda pop can they purchase, given the price of soda pop, and the current exchange rate?\n",
    "\n",
    "You must write a **recursive** function in Python __lightningBottle__ which simulates multiple trips to the soda pop store.  Your function must take \n",
    "\n",
    "* __money__ -> the amount of money the customer has\n",
    "* __bottlesOwned__ -> the number of bottles the customer has to exchange\n",
    "* __price__ -> the price of a bottle of soda pop\n",
    "* __exchangeRate__ -> the exchange rate, expressed as a tuple.  the first element is the minimum size of the group of bottles that can be exchanged.  The second argument is the refund received for one group of bottles.  \n",
    "\n",
    "A customer may refund as many groups of bottles as they like on a single visit to the store, but the total number of bottles refunded must be a multiple of the first element of __exchangeRate__.  \n",
    "\n",
    "The function must output the total number of bottles which the customer is able to purchase over all trips, until the customer runs out of money.  \n",
    "\n",
    "*McMaster University and the student success team behind CS 1MD3 do not in any way endorse the drinking of soda pop. Always drink sugary beverages responsibly.*"
   ]
  },
  {
   "cell_type": "code",
   "execution_count": 53,
   "metadata": {
    "deletable": false,
    "nbgrader": {
     "cell_type": "code",
     "checksum": "f738f4c9a7a81bc040951e0cbcfee6d8",
     "grade": false,
     "grade_id": "cell-b13d3512989a9754",
     "locked": false,
     "schema_version": 3,
     "solution": true,
     "task": false
    }
   },
   "outputs": [],
   "source": [
    "# Write your answer here.\n",
    "def lightningBottle(money, bottlesOwned, price, exchangeRate):\n",
    "    \n",
    "    if ((bottlesOwned // exchangeRate[0]) != 0):\n",
    "        money += (bottlesOwned // exchangeRate[0])*exchangeRate[1]\n",
    "        bottlesOwned %= exchangeRate[0]\n",
    "    \n",
    "    if ((money < price) or (money == 0)):\n",
    "        return 0\n",
    "    \n",
    "    bottleIncrement = (money//price)\n",
    "    money %= price\n",
    "    \n",
    "    return bottleIncrement + lightningBottle(money, bottlesOwned+bottleIncrement, price, exchangeRate)\n"
   ]
  },
  {
   "cell_type": "code",
   "execution_count": 54,
   "metadata": {
    "deletable": false,
    "editable": false,
    "nbgrader": {
     "cell_type": "code",
     "checksum": "27ce5d60faa0f133fa444f215a330e92",
     "grade": false,
     "grade_id": "cell-d3f3255d732a9bf8",
     "locked": true,
     "schema_version": 3,
     "solution": false,
     "task": false
    }
   },
   "outputs": [
    {
     "name": "stdout",
     "output_type": "stream",
     "text": [
      "Question #5 - Test Case #1: You Passed!\n",
      "Question #5 - Test Case #2: You Passed!\n",
      "Question #5 - Test Case #3: You Passed!\n"
     ]
    }
   ],
   "source": [
    "# Explanation: \n",
    "# With $11, 3 bottles can be purchased. \n",
    "# 2 of those bottles can be returned for $1, \n",
    "#     leaving remainder/carryOver at $3 and 1 bottle\n",
    "\n",
    "print(\"Question #5 - Test Case #1:\", tester(lightningBottle(11,0,3,(2,1)), 4))\n",
    "print(\"Question #5 - Test Case #2:\", tester(lightningBottle(49,0,3,(3,2)), 20))\n",
    "print(\"Question #5 - Test Case #3:\", tester(lightningBottle(99,0,4,(7,1)), 25))"
   ]
  },
  {
   "cell_type": "code",
   "execution_count": null,
   "metadata": {
    "deletable": false,
    "editable": false,
    "nbgrader": {
     "cell_type": "code",
     "checksum": "7e90c01068235fd5e4e93aa36357accf",
     "grade": true,
     "grade_id": "cell-21952759ea46058c",
     "locked": true,
     "points": 1,
     "schema_version": 3,
     "solution": false,
     "task": false
    }
   },
   "outputs": [],
   "source": [
    "# Hidden test cell"
   ]
  },
  {
   "cell_type": "code",
   "execution_count": null,
   "metadata": {
    "deletable": false,
    "editable": false,
    "nbgrader": {
     "cell_type": "code",
     "checksum": "2b963e56553378a5d7a605d9d73eccb7",
     "grade": true,
     "grade_id": "cell-92735d8de0a5377e",
     "locked": true,
     "points": 1,
     "schema_version": 3,
     "solution": false,
     "task": false
    }
   },
   "outputs": [],
   "source": [
    "# Hidden test cell"
   ]
  },
  {
   "cell_type": "code",
   "execution_count": null,
   "metadata": {
    "deletable": false,
    "editable": false,
    "nbgrader": {
     "cell_type": "code",
     "checksum": "37876eec60fc3e28919b8b058fbbde9e",
     "grade": true,
     "grade_id": "cell-af76b2a9e89cf43f",
     "locked": true,
     "points": 2,
     "schema_version": 3,
     "solution": false,
     "task": false
    }
   },
   "outputs": [],
   "source": [
    "# Hidden test cell"
   ]
  },
  {
   "cell_type": "markdown",
   "metadata": {
    "deletable": false,
    "editable": false,
    "nbgrader": {
     "cell_type": "markdown",
     "checksum": "52e535eb17243d403139de6c53417fe1",
     "grade": false,
     "grade_id": "cell-b4cf4de7aab6ce25",
     "locked": true,
     "schema_version": 3,
     "solution": false,
     "task": false
    }
   },
   "source": [
    "## Question 6: What is a Vector but a List? (4 points)\n",
    "\n",
    "A pre-requisite to this course is grade 12 calculus and vectors, which means these concepts shouldn't seem too scary! Given that a vector is simply a list of integers representing a coordinate, we could very simply make Vector operations in Python!\n",
    "\n",
    "This question will ask you to write 4 functions:\n",
    "\n",
    "- `vectorAdd(v1, v2)`: This is basic Vector addition: simply add the matching indexes of two lists together and return a brand new list.\n",
    "- `scalarMultiply(s, v1)`: Simply map your scalar over a vector! Multiply each item in the list by the scalar `s` provided.\n",
    "- `dotProduct(v1, v2)`: The dot product of two vectors is the sum of each index multiplied with each other. For example: `[1, 2, 3] * [4, 5, 6] = (1 * 4) + (2 * 5) + (3 * 6) = 32`.\n",
    "- `euclidDistance(v1, v2)`: This is the simple distance formula between two vectors:\n",
    "$$d = \\sqrt{(x_{2} - x_{1})^{2} + (y_{2} - y_{1})^{2} + (z_{2} - z_{1})^{2}}$$\n",
    "\n",
    "For all 4 functons, we guarentee that they will be lists of length 3, all containing integers and floating point numbers. Approach this question however you like, but this is a good chance to practice recursion. Learn when to use it, and when not to use it."
   ]
  },
  {
   "cell_type": "code",
   "execution_count": 61,
   "metadata": {
    "deletable": false,
    "nbgrader": {
     "cell_type": "code",
     "checksum": "981c1391837eed6b0b25b757fcf0df9d",
     "grade": false,
     "grade_id": "cell-897c75e315f277ff",
     "locked": false,
     "schema_version": 3,
     "solution": true,
     "task": false
    }
   },
   "outputs": [],
   "source": [
    "def vectorAdd(v1, v2):\n",
    "    return list( map (lambda x,y: x+y, v1, v2))\n",
    "\n",
    "def scalarMultiply(s, v1):\n",
    "    return list( map (lambda x: x*s, v1))\n",
    "\n",
    "def dotMultiply(v1, v2):\n",
    "    return sum(list( map (lambda x,y: x*y, v1, v2)) )\n",
    "\n",
    "def euclidDistance(v1, v2):\n",
    "    return sqrt(sum(list( map (lambda x,y: (x-y)**2, v1, v2)) ))\n"
   ]
  },
  {
   "cell_type": "code",
   "execution_count": 62,
   "metadata": {
    "deletable": false,
    "editable": false,
    "nbgrader": {
     "cell_type": "code",
     "checksum": "ec52acc1cb80201a0e7f7e478eae60bd",
     "grade": false,
     "grade_id": "cell-5934f34e56618309",
     "locked": true,
     "schema_version": 3,
     "solution": false,
     "task": false
    }
   },
   "outputs": [
    {
     "name": "stdout",
     "output_type": "stream",
     "text": [
      "Question #6 - Test Case #1: You Passed!\n",
      "Question #6 - Test Case #2: You Passed!\n",
      "Question #6 - Test Case #3: You Passed!\n",
      "Question #6 - Test Case #4: You Passed!\n"
     ]
    }
   ],
   "source": [
    "from math import isclose, sqrt\n",
    "\n",
    "print(\"Question #6 - Test Case #1:\", \n",
    "      tester(\n",
    "          vectorAdd([1, 2, 3], [4, 5, 6]),\n",
    "          [5, 7, 9]))\n",
    "print(\"Question #6 - Test Case #2:\", \n",
    "      tester(\n",
    "          scalarMultiply(2, [1, 2, 3]),\n",
    "          [2, 4, 6]))\n",
    "print(\"Question #6 - Test Case #3:\", \n",
    "      tester(\n",
    "          dotMultiply([1, 2, 3], [4, 5, 6]),\n",
    "          32))\n",
    "print(\"Question #6 - Test Case #4:\", \n",
    "      tester(isclose(\n",
    "          euclidDistance([1, 2, 3], [4, 5, 6]),\n",
    "          sqrt(9 + 9 + 9)\n",
    "      ), True))"
   ]
  },
  {
   "cell_type": "code",
   "execution_count": null,
   "metadata": {
    "deletable": false,
    "editable": false,
    "nbgrader": {
     "cell_type": "code",
     "checksum": "032db62a069ae5e8673862a96aa85904",
     "grade": true,
     "grade_id": "cell-28072d1b7710bd56",
     "locked": true,
     "points": 1,
     "schema_version": 3,
     "solution": false,
     "task": false
    }
   },
   "outputs": [],
   "source": [
    "# Hidden test cell"
   ]
  },
  {
   "cell_type": "code",
   "execution_count": null,
   "metadata": {
    "deletable": false,
    "editable": false,
    "nbgrader": {
     "cell_type": "code",
     "checksum": "dfc812f318c1026a1d4a47b5f719b24f",
     "grade": true,
     "grade_id": "cell-befce915b594bdb6",
     "locked": true,
     "points": 1,
     "schema_version": 3,
     "solution": false,
     "task": false
    }
   },
   "outputs": [],
   "source": [
    "# Hidden test cell"
   ]
  },
  {
   "cell_type": "code",
   "execution_count": null,
   "metadata": {
    "deletable": false,
    "editable": false,
    "nbgrader": {
     "cell_type": "code",
     "checksum": "95ab64ef3d469ba4c2436b7b6f537acc",
     "grade": true,
     "grade_id": "cell-2eeff3890a88bc4c",
     "locked": true,
     "points": 1,
     "schema_version": 3,
     "solution": false,
     "task": false
    }
   },
   "outputs": [],
   "source": [
    "# Hidden test cell"
   ]
  },
  {
   "cell_type": "code",
   "execution_count": null,
   "metadata": {
    "deletable": false,
    "editable": false,
    "nbgrader": {
     "cell_type": "code",
     "checksum": "8b08b5226c0b3aff62d8c67b948ee383",
     "grade": true,
     "grade_id": "cell-40feb718210a7779",
     "locked": true,
     "points": 1,
     "schema_version": 3,
     "solution": false,
     "task": false
    }
   },
   "outputs": [],
   "source": [
    "# Hidden test cell"
   ]
  },
  {
   "cell_type": "markdown",
   "metadata": {
    "deletable": false,
    "editable": false,
    "nbgrader": {
     "cell_type": "markdown",
     "checksum": "d12a337970d718f2d84f00288158ab82",
     "grade": false,
     "grade_id": "cell-7998639b8a9c0a29",
     "locked": true,
     "schema_version": 3,
     "solution": false,
     "task": false
    }
   },
   "source": [
    "# Bonus Question: Power Lists (4 points)\n",
    "\n",
    "A powerlist of a list `l` is the list of all sublists of `l`, consisting of possibly non-consecutive elements of `l` in the order in which they appear in `l`. For example, `[1, 2]` is a sublist of `[1, 1, 2, 3, 2]` but `[2, 1]` is not. \n",
    "\n",
    "Write a function `powerlist(l)` that returns the powerlist of `l`.\n",
    "\n",
    "Recall, this is not exactly Powersets. We allow duplicate items to appear with 0 issue.\n",
    "\n",
    "To give a good example, I have the following trace:\n",
    "\n",
    "```\n",
    "l = [a, b, c]\n",
    "\n",
    "answer = [\n",
    " [], \n",
    " [a], \n",
    " [b], [a, b], \n",
    " [c], [a, c], [b, c], [a,b,c]\n",
    "]\n",
    "-> [[], [a], [b], [c], [a,b], [a,c], [b, c], [a,b,c]]`\n",
    "```"
   ]
  },
  {
   "cell_type": "code",
   "execution_count": 147,
   "metadata": {
    "deletable": false,
    "nbgrader": {
     "cell_type": "code",
     "checksum": "10d05073854639102dd7ada431e469d8",
     "grade": false,
     "grade_id": "cell-dfdaa3dc16fac1d2",
     "locked": false,
     "schema_version": 3,
     "solution": true
    }
   },
   "outputs": [],
   "source": [
    "\n",
    "def powerlist(l):\n",
    "    pList=[[]]\n",
    "    for x in l:\n",
    "        for i in pList:\n",
    "            pList = pList + [list(i)+[x]]\n",
    "            \n",
    "    return pList"
   ]
  },
  {
   "cell_type": "code",
   "execution_count": 148,
   "metadata": {
    "deletable": false,
    "editable": false,
    "nbgrader": {
     "cell_type": "code",
     "checksum": "10740dc960bfa5e5b935dae4652a17a4",
     "grade": false,
     "grade_id": "cell-5f146dfec9358845",
     "locked": true,
     "schema_version": 3,
     "solution": false,
     "task": false
    }
   },
   "outputs": [
    {
     "name": "stdout",
     "output_type": "stream",
     "text": [
      "Bonus Question Test Case #1: You Passed!\n",
      "Bonus Question Test Case #2: You Passed!\n",
      "Bonus Question Test Case #3: You Passed!\n"
     ]
    }
   ],
   "source": [
    "print(\"Bonus Question Test Case #1:\", tester(powerlist([]), [[]]))\n",
    "print(\"Bonus Question Test Case #2:\", tester(powerlist([1]), [[], [1]]))\n",
    "print(\"Bonus Question Test Case #3:\", tester(powerlist([\"Hello\", \"World!\"]), [[], ['Hello'], ['World!'], ['Hello', 'World!']]))"
   ]
  },
  {
   "cell_type": "code",
   "execution_count": null,
   "metadata": {
    "deletable": false,
    "editable": false,
    "nbgrader": {
     "cell_type": "code",
     "checksum": "341020562793671bac17d58bcad252a6",
     "grade": true,
     "grade_id": "cell-93085be411c2469b",
     "locked": true,
     "points": 2,
     "schema_version": 3,
     "solution": false
    }
   },
   "outputs": [],
   "source": [
    "# Hidden test cell"
   ]
  },
  {
   "cell_type": "code",
   "execution_count": null,
   "metadata": {
    "deletable": false,
    "editable": false,
    "nbgrader": {
     "cell_type": "code",
     "checksum": "db2182b2473b05de9344cb6ac4dd5258",
     "grade": true,
     "grade_id": "cell-818107fb226c53d9",
     "locked": true,
     "points": 1,
     "schema_version": 3,
     "solution": false
    }
   },
   "outputs": [],
   "source": [
    "# Hidden Test Case"
   ]
  },
  {
   "cell_type": "code",
   "execution_count": null,
   "metadata": {
    "deletable": false,
    "editable": false,
    "nbgrader": {
     "cell_type": "code",
     "checksum": "686073484cb0a9c804db53d6251ed224",
     "grade": true,
     "grade_id": "cell-ad41c0cc9b75e975",
     "locked": true,
     "points": 1,
     "schema_version": 3,
     "solution": false
    }
   },
   "outputs": [],
   "source": [
    "# Hidden Test Case"
   ]
  }
 ],
 "metadata": {
  "kernelspec": {
   "display_name": "Python 3 (ipykernel)",
   "language": "python",
   "name": "python3"
  },
  "language_info": {
   "codemirror_mode": {
    "name": "ipython",
    "version": 3
   },
   "file_extension": ".py",
   "mimetype": "text/x-python",
   "name": "python",
   "nbconvert_exporter": "python",
   "pygments_lexer": "ipython3",
   "version": "3.9.13"
  }
 },
 "nbformat": 4,
 "nbformat_minor": 2
}
